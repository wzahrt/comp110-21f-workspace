{
 "cells": [
  {
   "cell_type": "markdown",
   "metadata": {},
   "source": [
    "# Demo Jupyter Notebook\n",
    "\n",
    "This notebook will exemplify some of the common use cases in Python Jupyter Notebooks."
   ]
  },
  {
   "cell_type": "code",
   "execution_count": 1,
   "metadata": {},
   "outputs": [
    {
     "name": "stdout",
     "output_type": "stream",
     "text": [
      "Hello, Will\n"
     ]
    }
   ],
   "source": [
    "name: str = \"Will\"\n",
    "print(f\"Hello, {name}\")"
   ]
  },
  {
   "cell_type": "markdown",
   "metadata": {},
   "source": [
    "## Formatting Markdown Notes\n",
    "\n",
    "* You can have lists\n",
    "* You can have [links - such as to a Markdown Cheat Sheet](https://www.markdownguide.org/cheat-sheet)"
   ]
  },
  {
   "cell_type": "code",
   "execution_count": 2,
   "metadata": {},
   "outputs": [
    {
     "name": "stdout",
     "output_type": "stream",
     "text": [
      "Another reference to Will made in this cell.\n"
     ]
    }
   ],
   "source": [
    "print(f\"Another reference to {name} made in this cell.\")"
   ]
  },
  {
   "cell_type": "markdown",
   "metadata": {},
   "source": [
    "## Useful Keyboard Shortcuts\n",
    "\n",
    "1. `Control+Enter` Execute a cell and leave the focus / cursor in that cell\n",
    "2. `Shift+Enter` Execute a cell and move to the next cell (or create a new cell at the end)"
   ]
  },
  {
   "cell_type": "code",
   "execution_count": 3,
   "metadata": {},
   "outputs": [
    {
     "name": "stdout",
     "output_type": "stream",
     "text": [
      "Some important computation...\n"
     ]
    },
    {
     "data": {
      "text/plain": [
       "1110.0"
      ]
     },
     "execution_count": 3,
     "metadata": {},
     "output_type": "execute_result"
    }
   ],
   "source": [
    "print(\"Some important computation...\")\n",
    "total: float = 110.0 + 1000.0\n",
    "total"
   ]
  },
  {
   "cell_type": "markdown",
   "metadata": {},
   "source": [
    "## Expressions written as the last line of a cell are automatically output\n",
    "\n",
    "This is very handy for not needing to call the `print` function at the end of every cell."
   ]
  },
  {
   "cell_type": "markdown",
   "metadata": {},
   "source": [
    "## Example of Importing a Module"
   ]
  },
  {
   "cell_type": "code",
   "execution_count": 5,
   "metadata": {},
   "outputs": [
    {
     "data": {
      "text/plain": [
       "3"
      ]
     },
     "execution_count": 5,
     "metadata": {},
     "output_type": "execute_result"
    }
   ],
   "source": [
    "import notebooks_helpers\n",
    "notebooks_helpers.add_two_ints(1, 2)"
   ]
  },
  {
   "cell_type": "code",
   "execution_count": 1,
   "metadata": {},
   "outputs": [
    {
     "data": {
      "text/plain": [
       "5"
      ]
     },
     "execution_count": 1,
     "metadata": {},
     "output_type": "execute_result"
    }
   ],
   "source": [
    "from notebooks_helpers import add_two_ints\n",
    "add_two_ints(2, 3)"
   ]
  }
 ],
 "metadata": {
  "interpreter": {
   "hash": "aa285a09c507f027f789b0f82024404c5baaa4d4aeec5d84ba34dbe25d2a23d1"
  },
  "kernelspec": {
   "display_name": "Python 3.9.6 64-bit",
   "name": "python3"
  },
  "language_info": {
   "codemirror_mode": {
    "name": "ipython",
    "version": 3
   },
   "file_extension": ".py",
   "mimetype": "text/x-python",
   "name": "python",
   "nbconvert_exporter": "python",
   "pygments_lexer": "ipython3",
   "version": "3.9.6"
  },
  "orig_nbformat": 4
 },
 "nbformat": 4,
 "nbformat_minor": 2
}
