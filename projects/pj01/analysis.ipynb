{
 "cells": [
  {
   "cell_type": "markdown",
   "metadata": {},
   "source": [
    "# On average, I think programming assignments are more effective in helping students learn topics than preparing for quizes."
   ]
  },
  {
   "cell_type": "markdown",
   "metadata": {},
   "source": [
    "## First I will implement and autoreolad function."
   ]
  },
  {
   "cell_type": "code",
   "execution_count": 10,
   "metadata": {},
   "outputs": [
    {
     "name": "stdout",
     "output_type": "stream",
     "text": [
      "Autoreload of imported modules enabled. Make sure to save module!\n"
     ]
    }
   ],
   "source": [
    "%reload_ext autoreload\n",
    "%autoreload 2\n",
    "print(\"Autoreload of imported modules enabled. Make sure to save module!\")"
   ]
  },
  {
   "cell_type": "markdown",
   "metadata": {},
   "source": [
    "## Now, I will implement the ability to read in CSV and convert it to column-oriented data tables."
   ]
  },
  {
   "cell_type": "code",
   "execution_count": 11,
   "metadata": {},
   "outputs": [],
   "source": [
    "from data_utils import read_csv_rows, columnar\n",
    "\n",
    "data_rows: list[dict[str, str]] = read_csv_rows('../../data/survey.csv') \n",
    "columns: dict[str, list[str]] = columnar(data_rows)"
   ]
  },
  {
   "cell_type": "markdown",
   "metadata": {},
   "source": [
    "## Next, I will select the programming_effective column and show the first 5 rows."
   ]
  },
  {
   "cell_type": "code",
   "execution_count": 12,
   "metadata": {},
   "outputs": [
    {
     "data": {
      "text/plain": [
       "{'programming_effective': ['6', '7', '7', '7', '7']}"
      ]
     },
     "execution_count": 12,
     "metadata": {},
     "output_type": "execute_result"
    }
   ],
   "source": [
    "from data_utils import head, select\n",
    "programming_effective_subset: dict[str, list[str]] = select(columns, [\"programming_effective\"])\n",
    "head(programming_effective_subset, 5)"
   ]
  },
  {
   "cell_type": "markdown",
   "metadata": {},
   "source": [
    "## Next, I will select the qz_effective column and show the first 5 rows."
   ]
  },
  {
   "cell_type": "code",
   "execution_count": 13,
   "metadata": {},
   "outputs": [
    {
     "data": {
      "text/plain": [
       "{'qz_effective': ['5', '5', '7', '7', '5']}"
      ]
     },
     "execution_count": 13,
     "metadata": {},
     "output_type": "execute_result"
    }
   ],
   "source": [
    "from data_utils import head, select\n",
    "qz_effective_subset: dict[str, list[str]] = select(columns, [\"qz_effective\"])\n",
    "head(qz_effective_subset, 5)"
   ]
  },
  {
   "cell_type": "markdown",
   "metadata": {},
   "source": [
    "## Now, I will count up the totals for both the programming_effective and qz_effective and list the results."
   ]
  },
  {
   "cell_type": "code",
   "execution_count": 14,
   "metadata": {},
   "outputs": [
    {
     "name": "stdout",
     "output_type": "stream",
     "text": [
      "Here are the tallies for the programming effective question.\n",
      "{'6': 152, '7': 223, '4': 57, '5': 96, '2': 12, '3': 28, '1': 5}\n",
      "Moving on to quiz effective tallies...\n",
      "{'5': 153, '7': 102, '4': 75, '6': 125, '3': 51, '1': 31, '2': 36}\n"
     ]
    }
   ],
   "source": [
    "from data_utils import count\n",
    "counts_programming_effective = count(programming_effective_subset['programming_effective'])\n",
    "print(\"Here are the tallies for the programming effective question.\")\n",
    "print(counts_programming_effective)\n",
    "\n",
    "print(\"Moving on to quiz effective tallies...\")\n",
    "\n",
    "counts_qz_effective = count(qz_effective_subset['qz_effective'])\n",
    "print(counts_qz_effective)\n"
   ]
  },
  {
   "cell_type": "markdown",
   "metadata": {},
   "source": [
    "# It is now time for some fun graphs! These visuals are a graphical representation of the data collected above!"
   ]
  },
  {
   "cell_type": "code",
   "execution_count": 48,
   "metadata": {},
   "outputs": [
    {
     "data": {
      "text/plain": [
       "[Text(0.5, 1.0, 'Tallies for programming effectiveness questionaire.')]"
      ]
     },
     "execution_count": 48,
     "metadata": {},
     "output_type": "execute_result"
    },
    {
     "data": {
      "image/png": "[encoded data removed]",
      "text/plain": [
       "<Figure size 432x288 with 1 Axes>"
      ]
     },
     "metadata": {
      "needs_background": "light"
     },
     "output_type": "display_data"
    }
   ],
   "source": [
    "import seaborn\n",
    "seaborn.barplot(x=[\"6\", \"7\", \"4\", \"5\", \"2\", \"3\", \"1\"], y=[152, 223, 57, 96, 12, 28, 5]).set(title='Tallies for programming effectiveness questionaire.')\n"
   ]
  },
  {
   "cell_type": "markdown",
   "metadata": {},
   "source": [
    "# Second fun graph!"
   ]
  },
  {
   "cell_type": "code",
   "execution_count": 49,
   "metadata": {},
   "outputs": [
    {
     "data": {
      "text/plain": [
       "[Text(0.5, 1.0, 'Tallies for quiz effectiveness questionaire.')]"
      ]
     },
     "execution_count": 49,
     "metadata": {},
     "output_type": "execute_result"
    },
    {
     "data": {
      "image/png": "[encoded data removed]",
      "text/plain": [
       "<Figure size 432x288 with 1 Axes>"
      ]
     },
     "metadata": {
      "needs_background": "light"
     },
     "output_type": "display_data"
    }
   ],
   "source": [
    "seaborn.barplot(x=[\"5\", \"7\", \"4\", \"6\", \"3\", \"1\", \"2\"], y=[153, 102, 75, 125, 51, 31, 36]).set(title='Tallies for quiz effectiveness questionaire.')"
   ]
  },
  {
   "cell_type": "markdown",
   "metadata": {},
   "source": [
    "## Now, I will add up the number of programming_effective responses and the number of qz_effective responses."
   ]
  },
  {
   "cell_type": "code",
   "execution_count": 15,
   "metadata": {},
   "outputs": [
    {
     "name": "stdout",
     "output_type": "stream",
     "text": [
      "The total number of programming effective responses is 573\n",
      "The total number of quiz effective responses is 573\n"
     ]
    }
   ],
   "source": [
    "from data_utils import total\n",
    "programming_effective_total_responses = total(counts_programming_effective)\n",
    "print(f\"The total number of programming effective responses is {programming_effective_total_responses}\")\n",
    "qz_effective_total_responses = total(counts_qz_effective)\n",
    "print(f\"The total number of quiz effective responses is {qz_effective_total_responses}\")\n"
   ]
  },
  {
   "cell_type": "markdown",
   "metadata": {},
   "source": [
    "## Now I will turn the values in the dictionaries for programming_effective_subset and qz_effective_subset into list[int]"
   ]
  },
  {
   "cell_type": "code",
   "execution_count": 28,
   "metadata": {},
   "outputs": [
    {
     "name": "stdout",
     "output_type": "stream",
     "text": [
      "{'programming_effective': [6, 7, 7, 7, 7]}\n",
      "{'qz_effective': [5, 5, 7, 7, 5]}\n"
     ]
    }
   ],
   "source": [
    "from data_utils import switch_type, head\n",
    "int_programming_effective_subset: dict[str, list[int]] = switch_type(programming_effective_subset)\n",
    "int_qz_effective_subset: dict[str, list[int]] = switch_type(qz_effective_subset)\n",
    "print(head(int_programming_effective_subset, 5))\n",
    "print(head(int_qz_effective_subset, 5))\n"
   ]
  },
  {
   "cell_type": "markdown",
   "metadata": {},
   "source": [
    "## Now, I will take the mean of the programming_effective responses and the mean of the qz_effective responses."
   ]
  },
  {
   "cell_type": "code",
   "execution_count": 50,
   "metadata": {},
   "outputs": [
    {
     "name": "stdout",
     "output_type": "stream",
     "text": [
      "The mean value on a scale from 1 to 7 of programming effectiveness responses is 5.7486910994764395\n",
      "While...\n",
      "The mean value on a scale from 1 to 7 of quiz effectiveness responses is 4.860383944153577\n"
     ]
    }
   ],
   "source": [
    "i: int = 0\n",
    "programming_effective_total: int = 0\n",
    "while i < programming_effective_total_responses:\n",
    "    programming_effective_total += int_programming_effective_subset['programming_effective'][i]\n",
    "    i += 1\n",
    "\n",
    "print(f\"The mean value on a scale from 1 to 7 of programming effectiveness responses is {programming_effective_total/programming_effective_total_responses}\")\n",
    "print(\"While...\")\n",
    "\n",
    "k: int = 0\n",
    "qz_effective_total: int = 0\n",
    "while k < qz_effective_total_responses:\n",
    "    qz_effective_total += int_qz_effective_subset['qz_effective'][k]\n",
    "    k += 1\n",
    "print(f\"The mean value on a scale from 1 to 7 of quiz effectiveness responses is {qz_effective_total/qz_effective_total_responses}\")\n"
   ]
  },
  {
   "cell_type": "markdown",
   "metadata": {},
   "source": [
    "# Conclusion\n",
    "\n",
    "After collecting the data, making some fun graphs, and crunching the numbers, the mean value for the effectiveness of programming assigments is higher than the mean value for the effectiveness of preparing for quizes. This means proves my hypothesis correct as more students prefer programming assignments to preparing for quizes when it comes to learning topics in this course. This is probably because programming assignments allow us to be more creative as students as there are multiple answers and multiple ways to achieve answers. Getting hands on action is definitely a more preferable course compared to studying for quizes for the COMP 110 class and I personally agree."
   ]
  }
 ],
 "metadata": {
  "interpreter": {
   "hash": "aa285a09c507f027f789b0f82024404c5baaa4d4aeec5d84ba34dbe25d2a23d1"
  },
  "kernelspec": {
   "display_name": "Python 3.9.6 64-bit",
   "name": "python3"
  },
  "language_info": {
   "codemirror_mode": {
    "name": "ipython",
    "version": 3
   },
   "file_extension": ".py",
   "mimetype": "text/x-python",
   "name": "python",
   "nbconvert_exporter": "python",
   "pygments_lexer": "ipython3",
   "version": "3.9.6"
  },
  "orig_nbformat": 4
 },
 "nbformat": 4,
 "nbformat_minor": 2
}
